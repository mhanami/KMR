{
 "cells": [
  {
   "cell_type": "code",
   "execution_count": 1,
   "metadata": {
    "collapsed": true
   },
   "outputs": [],
   "source": [
    "%matplotlib inline"
   ]
  },
  {
   "cell_type": "code",
   "execution_count": 4,
   "metadata": {
    "collapsed": false
   },
   "outputs": [],
   "source": [
    "\"\"\"\n",
    "Author:\n",
    "KMR (Kandori-Mailath-Rob) Model\n",
    "\"\"\"\n",
    "import numpy as np\n",
    "import quantecon as qe\n",
    "\n",
    "\n",
    "def kmr_markov_matrix(p, N, epsilon):\n",
    "    \"\"\"\n",
    "    Generate the transition probability matrix for the KMR dynamics with\n",
    "    two acitons.\n",
    "    \"\"\"\n",
    "    \n",
    "    P = np.zeros((N+1, N+1))\n",
    "    e = epsilon\n",
    "    P[0,0] = 1 - e\n",
    "    P[0,1] = e\n",
    "    P[N,N] = 1 - e\n",
    "    P[N,N-1] = e\n",
    "    \n",
    "    for i in range(1,N):\n",
    "        if (i-1)/(N-1) < p :\n",
    "            select = 1\n",
    "        elif (i-1)/(N-1) == p :\n",
    "            select = 0.5\n",
    "        else:\n",
    "            select = 0\n",
    "        P[i,i-1] = i/N*(e/2 + (1-e)*select)\n",
    "        if i/(N-1) > p:\n",
    "            select2 = 1\n",
    "        elif i/(N-1) == p:\n",
    "            select2 = 0.5\n",
    "        else:\n",
    "            select2 = 0\n",
    "        P[i,i+1] = (N-i)/N*(e/2 + (1-e)*select2)\n",
    "        P[i,i] = 1-P[i,i-1]-P[i,i+1]\n",
    "    return P\n",
    "\n",
    "\n",
    "        \n"
   ]
  },
  {
   "cell_type": "code",
   "execution_count": 14,
   "metadata": {
    "collapsed": false
   },
   "outputs": [
    {
     "data": {
      "text/plain": [
       "array([[ 0.999,  0.001,  0.   ,  0.   ,  0.   ,  0.   ,  0.   ,  0.   ,\n",
       "         0.   ,  0.   ,  0.   ],\n",
       "       [ 0.   ,  1.   ,  0.   ,  0.   ,  0.   ,  0.   ,  0.   ,  0.   ,\n",
       "         0.   ,  0.   ,  0.   ],\n",
       "       [ 0.   ,  0.   ,  1.   ,  0.   ,  0.   ,  0.   ,  0.   ,  0.   ,\n",
       "         0.   ,  0.   ,  0.   ],\n",
       "       [ 0.   ,  0.   ,  0.   ,  1.   ,  0.   ,  0.   ,  0.   ,  0.   ,\n",
       "         0.   ,  0.   ,  0.   ],\n",
       "       [ 0.   ,  0.   ,  0.   ,  0.   ,  1.   ,  0.   ,  0.   ,  0.   ,\n",
       "         0.   ,  0.   ,  0.   ],\n",
       "       [ 0.   ,  0.   ,  0.   ,  0.   ,  0.   ,  1.   ,  0.   ,  0.   ,\n",
       "         0.   ,  0.   ,  0.   ],\n",
       "       [ 0.   ,  0.   ,  0.   ,  0.   ,  0.   ,  0.   ,  1.   ,  0.   ,\n",
       "         0.   ,  0.   ,  0.   ],\n",
       "       [ 0.   ,  0.   ,  0.   ,  0.   ,  0.   ,  0.   ,  0.   ,  1.   ,\n",
       "         0.   ,  0.   ,  0.   ],\n",
       "       [ 0.   ,  0.   ,  0.   ,  0.   ,  0.   ,  0.   ,  0.   ,  0.   ,\n",
       "         1.   ,  0.   ,  0.   ],\n",
       "       [ 0.   ,  0.   ,  0.   ,  0.   ,  0.   ,  0.   ,  0.   ,  0.   ,\n",
       "         0.   ,  1.   ,  0.   ],\n",
       "       [ 0.   ,  0.   ,  0.   ,  0.   ,  0.   ,  0.   ,  0.   ,  0.   ,\n",
       "         0.   ,  0.001,  0.999]])"
      ]
     },
     "execution_count": 14,
     "metadata": {},
     "output_type": "execute_result"
    }
   ],
   "source": [
    "p=0.3\n",
    "N=10\n",
    "epsilon=0.001\n",
    "kmr_markov_matrix(p, N, epsilon)"
   ]
  },
  {
   "cell_type": "code",
   "execution_count": 26,
   "metadata": {
    "collapsed": false
   },
   "outputs": [
    {
     "data": {
      "text/plain": [
       "Markov chain with transition matrix \n",
       "P = \n",
       "[[  9.99990000e-01   1.00000000e-05   0.00000000e+00   0.00000000e+00\n",
       "    0.00000000e+00   0.00000000e+00   0.00000000e+00   0.00000000e+00\n",
       "    0.00000000e+00   0.00000000e+00   0.00000000e+00]\n",
       " [  0.00000000e+00   1.00000000e+00   0.00000000e+00   0.00000000e+00\n",
       "    0.00000000e+00   0.00000000e+00   0.00000000e+00   0.00000000e+00\n",
       "    0.00000000e+00   0.00000000e+00   0.00000000e+00]\n",
       " [  0.00000000e+00   0.00000000e+00   1.00000000e+00   0.00000000e+00\n",
       "    0.00000000e+00   0.00000000e+00   0.00000000e+00   0.00000000e+00\n",
       "    0.00000000e+00   0.00000000e+00   0.00000000e+00]\n",
       " [  0.00000000e+00   0.00000000e+00   0.00000000e+00   1.00000000e+00\n",
       "    0.00000000e+00   0.00000000e+00   0.00000000e+00   0.00000000e+00\n",
       "    0.00000000e+00   0.00000000e+00   0.00000000e+00]\n",
       " [  0.00000000e+00   0.00000000e+00   0.00000000e+00   0.00000000e+00\n",
       "    1.00000000e+00   0.00000000e+00   0.00000000e+00   0.00000000e+00\n",
       "    0.00000000e+00   0.00000000e+00   0.00000000e+00]\n",
       " [  0.00000000e+00   0.00000000e+00   0.00000000e+00   0.00000000e+00\n",
       "    0.00000000e+00   1.00000000e+00   0.00000000e+00   0.00000000e+00\n",
       "    0.00000000e+00   0.00000000e+00   0.00000000e+00]\n",
       " [  0.00000000e+00   0.00000000e+00   0.00000000e+00   0.00000000e+00\n",
       "    0.00000000e+00   0.00000000e+00   1.00000000e+00   0.00000000e+00\n",
       "    0.00000000e+00   0.00000000e+00   0.00000000e+00]\n",
       " [  0.00000000e+00   0.00000000e+00   0.00000000e+00   0.00000000e+00\n",
       "    0.00000000e+00   0.00000000e+00   0.00000000e+00   1.00000000e+00\n",
       "    0.00000000e+00   0.00000000e+00   0.00000000e+00]\n",
       " [  0.00000000e+00   0.00000000e+00   0.00000000e+00   0.00000000e+00\n",
       "    0.00000000e+00   0.00000000e+00   0.00000000e+00   0.00000000e+00\n",
       "    1.00000000e+00   0.00000000e+00   0.00000000e+00]\n",
       " [  0.00000000e+00   0.00000000e+00   0.00000000e+00   0.00000000e+00\n",
       "    0.00000000e+00   0.00000000e+00   0.00000000e+00   0.00000000e+00\n",
       "    0.00000000e+00   1.00000000e+00   0.00000000e+00]\n",
       " [  0.00000000e+00   0.00000000e+00   0.00000000e+00   0.00000000e+00\n",
       "    0.00000000e+00   0.00000000e+00   0.00000000e+00   0.00000000e+00\n",
       "    0.00000000e+00   1.00000000e-05   9.99990000e-01]]"
      ]
     },
     "execution_count": 26,
     "metadata": {},
     "output_type": "execute_result"
    }
   ],
   "source": [
    "import quantecon as qe\n",
    "P = kmr_markov_matrix(0.3,10,0.00001)\n",
    "mc = qe.MarkovChain(P)\n",
    "mc"
   ]
  },
  {
   "cell_type": "code",
   "execution_count": 21,
   "metadata": {
    "collapsed": false
   },
   "outputs": [
    {
     "data": {
      "text/plain": [
       "array([[ 0.,  1.,  0.,  0.,  0.,  0.,  0.,  0.,  0.,  0.,  0.],\n",
       "       [ 0.,  0.,  1.,  0.,  0.,  0.,  0.,  0.,  0.,  0.,  0.],\n",
       "       [ 0.,  0.,  0.,  1.,  0.,  0.,  0.,  0.,  0.,  0.,  0.],\n",
       "       [ 0.,  0.,  0.,  0.,  1.,  0.,  0.,  0.,  0.,  0.,  0.],\n",
       "       [ 0.,  0.,  0.,  0.,  0.,  1.,  0.,  0.,  0.,  0.,  0.],\n",
       "       [ 0.,  0.,  0.,  0.,  0.,  0.,  1.,  0.,  0.,  0.,  0.],\n",
       "       [ 0.,  0.,  0.,  0.,  0.,  0.,  0.,  1.,  0.,  0.,  0.],\n",
       "       [ 0.,  0.,  0.,  0.,  0.,  0.,  0.,  0.,  1.,  0.,  0.],\n",
       "       [ 0.,  0.,  0.,  0.,  0.,  0.,  0.,  0.,  0.,  1.,  0.]])"
      ]
     },
     "execution_count": 21,
     "metadata": {},
     "output_type": "execute_result"
    }
   ],
   "source": [
    "mc.stationary_distributions"
   ]
  },
  {
   "cell_type": "code",
   "execution_count": 32,
   "metadata": {
    "collapsed": false
   },
   "outputs": [
    {
     "ename": "ValueError",
     "evalue": "negative dimensions are not allowed",
     "output_type": "error",
     "traceback": [
      "\u001b[0;31m---------------------------------------------------------------------------\u001b[0m",
      "\u001b[0;31mValueError\u001b[0m                                Traceback (most recent call last)",
      "\u001b[0;32m<ipython-input-32-d464efac6a05>\u001b[0m in \u001b[0;36m<module>\u001b[0;34m()\u001b[0m\n\u001b[0;32m----> 1\u001b[0;31m \u001b[0mmc\u001b[0m\u001b[0;34m.\u001b[0m\u001b[0msimulate\u001b[0m\u001b[0;34m(\u001b[0m\u001b[0;36m0\u001b[0m\u001b[0;34m,\u001b[0m\u001b[0;36m100\u001b[0m\u001b[0;34m)\u001b[0m\u001b[0;34m\u001b[0m\u001b[0m\n\u001b[0m",
      "\u001b[0;32m/Users/mhanami/anaconda/lib/python2.7/site-packages/quantecon/mc_tools.pyc\u001b[0m in \u001b[0;36msimulate\u001b[0;34m(self, ts_length, init, num_reps)\u001b[0m\n\u001b[1;32m    328\u001b[0m \u001b[0;34m\u001b[0m\u001b[0m\n\u001b[1;32m    329\u001b[0m         \u001b[0;31m# Random values, uniformly sampled from [0, 1)\u001b[0m\u001b[0;34m\u001b[0m\u001b[0;34m\u001b[0m\u001b[0m\n\u001b[0;32m--> 330\u001b[0;31m         \u001b[0mrandom_values\u001b[0m \u001b[0;34m=\u001b[0m \u001b[0mrandom_state\u001b[0m\u001b[0;34m.\u001b[0m\u001b[0mrandom_sample\u001b[0m\u001b[0;34m(\u001b[0m\u001b[0msize\u001b[0m\u001b[0;34m=\u001b[0m\u001b[0;34m(\u001b[0m\u001b[0mk\u001b[0m\u001b[0;34m,\u001b[0m \u001b[0mts_length\u001b[0m\u001b[0;34m-\u001b[0m\u001b[0;36m1\u001b[0m\u001b[0;34m)\u001b[0m\u001b[0;34m)\u001b[0m\u001b[0;34m\u001b[0m\u001b[0m\n\u001b[0m\u001b[1;32m    331\u001b[0m \u001b[0;34m\u001b[0m\u001b[0m\n\u001b[1;32m    332\u001b[0m         \u001b[0;31m# Generate sample paths and store in X\u001b[0m\u001b[0;34m\u001b[0m\u001b[0;34m\u001b[0m\u001b[0m\n",
      "\u001b[0;32mmtrand.pyx\u001b[0m in \u001b[0;36mmtrand.RandomState.random_sample (numpy/random/mtrand/mtrand.c:9243)\u001b[0;34m()\u001b[0m\n",
      "\u001b[0;32mmtrand.pyx\u001b[0m in \u001b[0;36mmtrand.cont0_array (numpy/random/mtrand/mtrand.c:1880)\u001b[0;34m()\u001b[0m\n",
      "\u001b[0;31mValueError\u001b[0m: negative dimensions are not allowed"
     ]
    }
   ],
   "source": [
    "mc.simulate(0,100)"
   ]
  },
  {
   "cell_type": "code",
   "execution_count": null,
   "metadata": {
    "collapsed": true
   },
   "outputs": [],
   "source": []
  }
 ],
 "metadata": {
  "kernelspec": {
   "display_name": "Python 2",
   "language": "python",
   "name": "python2"
  },
  "language_info": {
   "codemirror_mode": {
    "name": "ipython",
    "version": 2
   },
   "file_extension": ".py",
   "mimetype": "text/x-python",
   "name": "python",
   "nbconvert_exporter": "python",
   "pygments_lexer": "ipython2",
   "version": "2.7.9"
  }
 },
 "nbformat": 4,
 "nbformat_minor": 0
}
